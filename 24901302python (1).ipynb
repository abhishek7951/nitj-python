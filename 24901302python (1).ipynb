{
 "cells": [
  {
   "cell_type": "markdown",
   "id": "7ef0799b-d41a-4829-92bc-08c58b89c24c",
   "metadata": {},
   "source": [
    "question 1 (a)"
   ]
  },
  {
   "cell_type": "code",
   "execution_count": 1,
   "id": "3040a863-f3af-41fe-9bc6-d852365fe28a",
   "metadata": {},
   "outputs": [
    {
     "name": "stdin",
     "output_type": "stream",
     "text": [
      "Enter the number of strings  5\n",
      "Enter string 1:  sd\n",
      "Enter string 2:  fg\n",
      "Enter string 3:  gh\n",
      "Enter string 4:  tg\n",
      "Enter string 5:  rf\n",
      "Enter a string to search for:  t\n"
     ]
    },
    {
     "name": "stdout",
     "output_type": "stream",
     "text": [
      "not found\n"
     ]
    }
   ],
   "source": [
    "string_list = []\n",
    "n = int(input(\"Enter the number of strings \"))\n",
    "\n",
    "for i in range(n):\n",
    "    user_input = input(f\"Enter string {i+1}: \")\n",
    "    string_list.append(user_input)\n",
    "#reverse sring\n",
    "string_list.reverse()\n",
    "\n",
    "search_string = input(\"Enter a string to search for: \")\n",
    "#give index from reversed stringw\n",
    "if search_string in string_list:\n",
    "    index = string_list.index(search_string)\n",
    "    print(index)\n",
    "else:\n",
    "    print(\"not found\")"
   ]
  },
  {
   "cell_type": "code",
   "execution_count": null,
   "id": "44c3118f-7e19-4237-a2f2-5712590f65dc",
   "metadata": {},
   "outputs": [],
   "source": [
    "question 1 (b)\n"
   ]
  },
  {
   "cell_type": "code",
   "execution_count": 2,
   "id": "f6c830ed-8134-456c-b60a-9277ebb1bbec",
   "metadata": {},
   "outputs": [
    {
     "name": "stdin",
     "output_type": "stream",
     "text": [
      "Enter your password:  7951@Abhishek\n"
     ]
    },
    {
     "name": "stdout",
     "output_type": "stream",
     "text": [
      "Password is strong.\n"
     ]
    }
   ],
   "source": [
    "import re\n",
    "\n",
    "def strength(password):\n",
    "    \n",
    "    if len(password) < 8:\n",
    "        return \"Password must be at least 8 characters long.\"\n",
    "\n",
    "    # Check for both uppercase and lowercase letters\n",
    "    if not re.search(r'[a-z]', password):\n",
    "        return \"Password must contain at least one lowercase letter.\"\n",
    "    if not re.search(r'[A-Z]', password):\n",
    "        return \"Password must contain at least one uppercase letter.\"\n",
    "\n",
    "    # Check for at least one digit\n",
    "    if not re.search(r'[0-9]', password):\n",
    "        return \"Password must contain at least one digit.\"\n",
    "\n",
    "    # Check for at least one special character\n",
    "    if not re.search(r'[@#$%^&+=!]', password):\n",
    "        return \"Password must contain at least one special character (e.g., @, #, $, %, ^, &, +, =, !).\"\n",
    "\n",
    "    return \"Password is strong.\"\n",
    "\n",
    "password = input(\"Enter your password: \")\n",
    "result = strength(password)\n",
    "print(result)\n"
   ]
  },
  {
   "cell_type": "code",
   "execution_count": null,
   "id": "e6712622-755f-44b6-ae0c-cf0e8e9cd7e6",
   "metadata": {},
   "outputs": [],
   "source": [
    "question 1 (c)\n"
   ]
  },
  {
   "cell_type": "code",
   "execution_count": 5,
   "id": "cfb33c5b-216d-4f13-a38f-971515c9f15f",
   "metadata": {},
   "outputs": [
    {
     "name": "stdout",
     "output_type": "stream",
     "text": [
      "Test input file 'student_data.txt' created.\n",
      "Invalid format in line: Student ID: 1234 Name:   , Age: 21\n",
      "\n",
      "Valid student data written to 'valid_student_data.txt'.\n"
     ]
    }
   ],
   "source": [
    "\n",
    "\n",
    "\n",
    "# Student class \n",
    "class Student:\n",
    "    def __init__(self, student_id, name, age, grade):\n",
    "        self.student_id = student_id\n",
    "        self.name = name\n",
    "        self.age = age\n",
    "        self.grade = grade\n",
    "\n",
    "    def __str__(self):\n",
    "        return f\"Student ID: {self.student_id}, Name: {self.name}, Age: {self.age}, Grade: {self.grade}\"\n",
    "#exception class       \n",
    "class InvalidStudentDataException(Exception):\n",
    "    pass\n",
    "# Function to process line\n",
    "def process_line(line):\n",
    "    try:\n",
    "        \n",
    "        parts = [p.strip() for p in line.split(\",\")]\n",
    "        if len(parts) != 4:\n",
    "            raise InvalidStudentDataException(\"Missing or extra fields.\")\n",
    "\n",
    "        # Extract values\n",
    "        student_id = int(parts[0].split(\":\")[1].strip())\n",
    "        name = parts[1].split(\":\")[1].strip()\n",
    "        age = int(parts[2].split(\":\")[1].strip())\n",
    "        grade = parts[3].split(\":\")[1].strip()\n",
    "\n",
    "        return Student(student_id, name, age, grade)\n",
    "    except Exception:\n",
    "        raise InvalidStudentDataException(\"Invalid format in line: \" + line)\n",
    "\n",
    "# Function to create  input file\n",
    "def create_input_file(filename):\n",
    "    test_data = [\n",
    "        \"Student ID: 1234, Name: Abhi, Age: 21, Grade: A\\n\",\n",
    "        \"Student ID: 5678, Name: Shek, Age: 22, Grade: B\\n\",\n",
    "        \"Student ID: 9999, Name: Rawat, Age: 20, Grade: C\\n\",\n",
    "        \"Student ID: 1234 Name:   , Age: 21\\n\",  # Invalid line\n",
    "    ]\n",
    "    with open(filename, 'w') as f:\n",
    "        f.writelines(test_data)\n",
    "    print(f\"Test input file '{filename}' created.\")\n",
    "\n",
    "# Function to process the input file and write valid data to output file\n",
    "def process_file(input_file, output_file):\n",
    "    valid_students = []\n",
    "    with open(input_file, 'r') as infile:\n",
    "        for line in infile:\n",
    "            try:\n",
    "                student = process_line(line)\n",
    "                valid_students.append(student)\n",
    "            except InvalidStudentDataException as e:\n",
    "                print(e)\n",
    "\n",
    "    with open(output_file, 'w') as outfile:\n",
    "        for student in valid_students:\n",
    "            outfile.write(str(student) + \"\\n\")\n",
    "    print(f\"Valid student data written to '{output_file}'.\")\n",
    "\n",
    "# Main program\n",
    "if __name__ == \"__main__\":\n",
    "    input_file = \"student_data.txt\"\n",
    "    output_file = \"valid_student_data.txt\"\n",
    "    \n",
    "    create_input_file(input_file)\n",
    "    \n",
    "    process_file(input_file, output_file)\n"
   ]
  },
  {
   "cell_type": "code",
   "execution_count": null,
   "id": "e0bd5352-ff79-42fc-b3d5-4f6d3e41fb81",
   "metadata": {},
   "outputs": [],
   "source": []
  }
 ],
 "metadata": {
  "kernelspec": {
   "display_name": "Python 3 (ipykernel)",
   "language": "python",
   "name": "python3"
  },
  "language_info": {
   "codemirror_mode": {
    "name": "ipython",
    "version": 3
   },
   "file_extension": ".py",
   "mimetype": "text/x-python",
   "name": "python",
   "nbconvert_exporter": "python",
   "pygments_lexer": "ipython3",
   "version": "3.12.4"
  }
 },
 "nbformat": 4,
 "nbformat_minor": 5
}
